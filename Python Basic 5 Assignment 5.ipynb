{
 "cells": [
  {
   "cell_type": "markdown",
   "id": "f257cf11",
   "metadata": {},
   "source": [
    "## 1. What does an empty dictionary&#39;s code look like?"
   ]
  },
  {
   "cell_type": "code",
   "execution_count": null,
   "id": "8e406254",
   "metadata": {},
   "outputs": [],
   "source": [
    "d = {}"
   ]
  },
  {
   "cell_type": "markdown",
   "id": "a7e78086",
   "metadata": {},
   "source": [
    "## 2. What is the value of a dictionary value with the key &#39;foo&#39; and the value 42?"
   ]
  },
  {
   "cell_type": "code",
   "execution_count": null,
   "id": "d2065493",
   "metadata": {},
   "outputs": [],
   "source": [
    "{'foo':42}"
   ]
  },
  {
   "cell_type": "markdown",
   "id": "f12f6374",
   "metadata": {},
   "source": [
    "## 3. What is the most significant distinction between a dictionary and a list?"
   ]
  },
  {
   "cell_type": "code",
   "execution_count": null,
   "id": "ebfa19e6",
   "metadata": {},
   "outputs": [],
   "source": [
    "List :- it's refers to a collection of various index value pairs \n",
    "Dictionary:- it's refers to a hashed structure of various pairs of keys and values"
   ]
  },
  {
   "cell_type": "markdown",
   "id": "44a272af",
   "metadata": {},
   "source": [
    "## 4. What happens if you try to access spam[&#39;foo&#39;] if spam is {&#39;bar&#39;: 100}?"
   ]
  },
  {
   "cell_type": "code",
   "execution_count": null,
   "id": "2df5057a",
   "metadata": {},
   "outputs": [],
   "source": [
    "Arries keyError"
   ]
  },
  {
   "cell_type": "markdown",
   "id": "2c0dff78",
   "metadata": {},
   "source": [
    "## 5. If a dictionary is stored in spam, what is the difference between the expressions &#39;cat&#39; in spam and &#39;cat&#39; in spam.keys()?"
   ]
  },
  {
   "cell_type": "code",
   "execution_count": null,
   "id": "ecaa7c81",
   "metadata": {},
   "outputs": [],
   "source": [
    "There is no difference"
   ]
  },
  {
   "cell_type": "markdown",
   "id": "4f4f0080",
   "metadata": {},
   "source": [
    "## 6. If a dictionary is stored in spam, what is the difference between the expressions &#39;cat&#39; in spam and &#39;cat&#39; in spam.values()?"
   ]
  },
  {
   "cell_type": "code",
   "execution_count": null,
   "id": "37c801d0",
   "metadata": {},
   "outputs": [],
   "source": [
    "'cat' in spam >> Here it's check cat is in keys of that dictionary only\n",
    "'cat' in spam.values() >> Here it's check cat is in values of that dictionary"
   ]
  },
  {
   "cell_type": "markdown",
   "id": "28d245e6",
   "metadata": {},
   "source": [
    "## 7. What is a shortcut for the following code?\n",
    "if &#39;color&#39; not in spam:\n",
    "\n",
    "spam[&#39;color&#39;] = &#39;black&#39;"
   ]
  },
  {
   "cell_type": "code",
   "execution_count": null,
   "id": "e4d7353a",
   "metadata": {},
   "outputs": [],
   "source": [
    "spam.setdefault ('color','black')"
   ]
  },
  {
   "cell_type": "markdown",
   "id": "10875a7d",
   "metadata": {},
   "source": [
    "## 8. How do you &quot;pretty print&quot; dictionary values using which module and function?"
   ]
  },
  {
   "cell_type": "code",
   "execution_count": null,
   "id": "897a5d84",
   "metadata": {},
   "outputs": [],
   "source": [
    "pprint.pprint()"
   ]
  }
 ],
 "metadata": {
  "kernelspec": {
   "display_name": "Python 3 (ipykernel)",
   "language": "python",
   "name": "python3"
  },
  "language_info": {
   "codemirror_mode": {
    "name": "ipython",
    "version": 3
   },
   "file_extension": ".py",
   "mimetype": "text/x-python",
   "name": "python",
   "nbconvert_exporter": "python",
   "pygments_lexer": "ipython3",
   "version": "3.9.12"
  }
 },
 "nbformat": 4,
 "nbformat_minor": 5
}
